{
 "cells": [
  {
   "cell_type": "markdown",
   "metadata": {},
   "source": [
    "<h2>238. Product of Array Except Self</h2>\n",
    "<p>Given an integer array <b>nums</b>, return an array <b>answer</b> such that <b>answer[i]</b> is equal to the product of all the elements of <b>nums</b> except <b>nums[i]</b>.\n",
    "\n",
    "The product of any prefix or suffix of nums is <b>guaranteed</b> to fit in a <b>32-bit</b> integer.\n",
    "\n",
    "You must write an algorithm that runs in O(n) time and without using the division operation.</p>\n",
    "\n",
    "<b>Example 1:</b>\n",
    "\n",
    "Input: nums = [1,2,3,4]\n",
    "\n",
    "Output: [24,12,8,6]"
   ]
  },
  {
   "cell_type": "code",
   "execution_count": 10,
   "metadata": {},
   "outputs": [],
   "source": [
    "class Solution:\n",
    "    def productExceptSelf(self, nums):\n",
    "        res = [1] * (len(nums))\n",
    "        # res = [1, 1, 1, 1]\n",
    "\n",
    "        for i in range(1, len(nums)):\n",
    "            # for i in range(1, 4):\n",
    "            res[i] = res[i-1] * nums[i-1]\n",
    "            # res[1] = res[1-1] * nums[1-1]\n",
    "            # res[1] = res[0] = 1 * nums[0] = 2\n",
    "            # res[1] = 1 * 2 = 2\n",
    "            # res[1] = 2\n",
    "\n",
    "            # res[2] = res[2-1] * nums[2-1]\n",
    "            # res[2] = res[1] = 2 * nums[1] = 3\n",
    "            # res[2] = 2 * 3 = 6\n",
    "            # res[2] = 6\n",
    "\n",
    "            # res[3] = res[3-1] * nums[3-1]\n",
    "            # res[3] = res[2] = 6 * nums[2] = 4\n",
    "            # res[3] = 6 * 4 = 24\n",
    "            # res[3] = 24\n",
    "            \n",
    "        postfix = 1\n",
    "        for i in range(len(nums) - 1, -1, -1):\n",
    "            # for i in range (len(nums = 4) - 1, -1, -1)\n",
    "            # for i in range (3, -1, -1)\n",
    "            res[i] *= postfix\n",
    "            postfix *= nums[i]\n",
    "        return res"
   ]
  },
  {
   "cell_type": "code",
   "execution_count": 11,
   "metadata": {},
   "outputs": [
    {
     "name": "stdout",
     "output_type": "stream",
     "text": [
      "[24, 12, 8, 6]\n"
     ]
    }
   ],
   "source": [
    "s = Solution()\n",
    "nums = [1,2,3,4]\n",
    "result = s.productExceptSelf(nums)\n",
    "print(result)"
   ]
  }
 ],
 "metadata": {
  "kernelspec": {
   "display_name": "base",
   "language": "python",
   "name": "python3"
  },
  "language_info": {
   "codemirror_mode": {
    "name": "ipython",
    "version": 3
   },
   "file_extension": ".py",
   "mimetype": "text/x-python",
   "name": "python",
   "nbconvert_exporter": "python",
   "pygments_lexer": "ipython3",
   "version": "3.10.9"
  },
  "orig_nbformat": 4
 },
 "nbformat": 4,
 "nbformat_minor": 2
}
