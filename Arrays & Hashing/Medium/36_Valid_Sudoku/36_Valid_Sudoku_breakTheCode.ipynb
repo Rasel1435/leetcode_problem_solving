{
 "cells": [
  {
   "cell_type": "markdown",
   "metadata": {},
   "source": [
    "\n",
    "# Intuition\n",
    "The problem is asking to validate a partially filled Sudoku board. The rules of Sudoku state that each row, each column, and each 3x3 grid must contain the digits 1-9 without repetition. So, the intuition here is to check these three conditions for the given board.\n",
    "\n",
    "# Approach\n",
    "- Check Rows: For each row in the board, check if there are any duplicate numbers (ignoring the empty cells denoted by \".\"). If any duplicates are found return False.\n",
    "\n",
    "- Check Columns: Similarly, for each column, check if there are any duplicate numbers. If any duplicates are found, return False.\n",
    "\n",
    "- Check 3x3 Grids: The 9x9 Sudoku board can be divided into nine 3x3 grids. For each of these grids, check if there are any duplicate numbers. If any duplicates are found, return False.\n",
    "   \n",
    "If no duplicates are found in any of the rows, columns, or 3x3 grids, then the given board is a valid Sudoku board, so return True."
   ]
  },
  {
   "cell_type": "markdown",
   "metadata": {},
   "source": [
    "# Code:"
   ]
  },
  {
   "cell_type": "code",
   "execution_count": 4,
   "metadata": {},
   "outputs": [
    {
     "name": "stdout",
     "output_type": "stream",
     "text": [
      "True\n"
     ]
    }
   ],
   "source": [
    "from typing import List\n",
    "import collections\n",
    "\n",
    "class Solution:\n",
    "    def isValidSudoku(self, board: List[List[str]]) -> bool:\n",
    "        \"\"\" This line defines a method isValidSudoku inside the Solution class.\n",
    "        The method takes a 2D list (List[List[str]]) representing the Sudoku board as input and\n",
    "        returns a boolean (bool). It checks whether the given Sudoku board is valid.\"\"\"\n",
    "        cols = collections.defaultdict(set)\n",
    "        rows = collections.defaultdict(set)\n",
    "        squares = collections.defaultdict(set)  # key = (r // 3, c // 3)\n",
    "        \"\"\" Here, three defaultdicts are initialized: cols, rows, and squares.These will be used to keep track\n",
    "        of the numbers present in each column, each row, and each 3x3 subgrid of the Sudoku board, respectively.\"\"\"\n",
    "\n",
    "        for r in range(9):\n",
    "            for c in range(9):\n",
    "                # These lines initiate nested loops to iterate over each cell in the 9x9 Sudoku board.\n",
    "                if board[r][c] == \".\":\n",
    "                    continue\n",
    "                \"\"\" This conditional statement checks if the current cell contains a dot (.), which represents\n",
    "                an empty cell in the Sudoku board. If it does, the loop continues to the next iteration,\n",
    "                skipping the rest of the code for the current cell.\"\"\"\n",
    "                \n",
    "                if (\n",
    "                    board[r][c] in rows[r]\n",
    "                    or board[r][c] in cols[c]\n",
    "                    or board[r][c] in squares[(r // 3, c // 3)]\n",
    "                ):\n",
    "                    return False\n",
    "                \"\"\" This conditional statement checks if the current cell contains a dot (.),\n",
    "                which represents an empty cell in the Sudoku board.If it does, the loop continues to the next iteration,\n",
    "                skipping the rest of the code for the current cell.\"\"\"\n",
    "                \n",
    "                cols[c].add(board[r][c])\n",
    "                rows[r].add(board[r][c])\n",
    "                squares[(r // 3, c // 3)].add(board[r][c])\n",
    "                \"\"\" If the current number is not present in the corresponding row, column, or subgrid,\n",
    "                it is added to the sets in cols, rows, and squares, respectively.\"\"\"\n",
    "\n",
    "        return True\n",
    "    \n",
    "if __name__ == \"__main__\":\n",
    "    board = [\n",
    "        [\"5\",\"3\",\".\",\".\",\"7\",\".\",\".\",\".\",\".\"],\n",
    "        [\"6\",\".\",\".\",\"1\",\"9\",\"5\",\".\",\".\",\".\"],\n",
    "        [\".\",\"9\",\"8\",\".\",\".\",\".\",\".\",\"6\",\".\"],\n",
    "        [\"8\",\".\",\".\",\".\",\"6\",\".\",\".\",\".\",\"3\"],\n",
    "        [\"4\",\".\",\".\",\"8\",\".\",\"3\",\".\",\".\",\"1\"],\n",
    "        [\"7\",\".\",\".\",\".\",\"2\",\".\",\".\",\".\",\"6\"],\n",
    "        [\".\",\"6\",\".\",\".\",\".\",\".\",\"2\",\"8\",\".\"],\n",
    "        [\".\",\".\",\".\",\"4\",\"1\",\"9\",\".\",\".\",\"5\"],\n",
    "        [\".\",\".\",\".\",\".\",\"8\",\".\",\".\",\"7\",\"9\"]\n",
    "    ]\n",
    "    print(Solution().isValidSudoku(board))"
   ]
  },
  {
   "cell_type": "markdown",
   "metadata": {},
   "source": [
    "In summary, this code uses sets and defaultdicts to efficiently check the validity of a given 9x9 Sudoku board by ensuring that no number is repeated in any row, column, or 3x3 subgrid."
   ]
  }
 ],
 "metadata": {
  "kernelspec": {
   "display_name": "timeseriesENV",
   "language": "python",
   "name": "python3"
  },
  "language_info": {
   "codemirror_mode": {
    "name": "ipython",
    "version": 3
   },
   "file_extension": ".py",
   "mimetype": "text/x-python",
   "name": "python",
   "nbconvert_exporter": "python",
   "pygments_lexer": "ipython3",
   "version": "3.10.6"
  }
 },
 "nbformat": 4,
 "nbformat_minor": 2
}
