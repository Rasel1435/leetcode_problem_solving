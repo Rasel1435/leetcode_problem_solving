{
 "cells": [
  {
   "cell_type": "markdown",
   "metadata": {},
   "source": [
    "<h2>347. Top K Frequent Elements</h2>\n",
    "<p>Given an integer array <b>nums</b> and an integer <b>k</b>, return the <b>k</b> most frequent elements. You may return the answer in any order.</p>\n",
    "<strong>Example 1:</strong></n>\n",
    "\n",
    "<strong>nums</strong> = [1,1,1,2,2,3]\n",
    "\n",
    "k = 2\n",
    "\n",
    "<strong>Output:</strong> [1,2]"
   ]
  },
  {
   "cell_type": "code",
   "execution_count": 1,
   "metadata": {},
   "outputs": [],
   "source": [
    "from collections import Counter\n",
    "\n",
    "class Solution:\n",
    "    def topKFrequent(self, nums, k):\n",
    "        # Count the frequency of each element in the list\n",
    "        counts = Counter(nums)\n",
    "\n",
    "\n",
    "        # Count the frequency of each element in the list\n",
    "        sorted_elements = sorted(counts.keys(), key=lambda x: counts[x], reverse=True)\n",
    "\n",
    "        # Return the top K frequent elements\n",
    "        return sorted_elements[:k]\n"
   ]
  },
  {
   "cell_type": "code",
   "execution_count": 4,
   "metadata": {},
   "outputs": [
    {
     "name": "stdout",
     "output_type": "stream",
     "text": [
      "[1, 2]\n"
     ]
    }
   ],
   "source": [
    "s = Solution()\n",
    "nums = [1, 1, 1, 2, 2, 3]\n",
    "k = 2\n",
    "result = s.topKFrequent(nums, k)\n",
    "print(result)"
   ]
  }
 ],
 "metadata": {
  "kernelspec": {
   "display_name": "base",
   "language": "python",
   "name": "python3"
  },
  "language_info": {
   "codemirror_mode": {
    "name": "ipython",
    "version": 3
   },
   "file_extension": ".py",
   "mimetype": "text/x-python",
   "name": "python",
   "nbconvert_exporter": "python",
   "pygments_lexer": "ipython3",
   "version": "3.10.9"
  },
  "orig_nbformat": 4
 },
 "nbformat": 4,
 "nbformat_minor": 2
}
