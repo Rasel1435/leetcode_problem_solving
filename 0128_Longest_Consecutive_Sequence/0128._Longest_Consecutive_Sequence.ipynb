{
 "cells": [
  {
   "cell_type": "markdown",
   "metadata": {},
   "source": [
    "# 128. Longest Consecutive Sequence\n"
   ]
  },
  {
   "cell_type": "markdown",
   "metadata": {},
   "source": [
    "Given an unsorted array of integers nums, return the length of the longest consecutive elements sequence. </br>\n",
    "\n",
    "You must write an algorithm that runs in O(n) time.</br>\n",
    "\n",
    "### Example 1:\n",
    "\n",
    "    Input: nums = [100,4,200,1,3,2]\n",
    "    Output: 4\n",
    "    Explanation: The longest consecutive elements sequence is [1, 2, 3, 4]. Therefore its length is 4.\n",
    "\n",
    "### Example 2:\n",
    "\n",
    "    Input: nums = [0,3,7,2,5,8,4,6,0,1]\n",
    "    Output: 9\n"
   ]
  },
  {
   "cell_type": "markdown",
   "metadata": {},
   "source": [
    "## Let's Break Down This Code\n"
   ]
  },
  {
   "cell_type": "code",
   "execution_count": 1,
   "metadata": {},
   "outputs": [
    {
     "name": "stdout",
     "output_type": "stream",
     "text": [
      "4\n",
      "9\n"
     ]
    }
   ],
   "source": [
    "class Solution:\n",
    "    def longestConsecutive(self, nums: list[int]) -> int:\n",
    "        numSet = set(nums)\n",
    "        \"\"\" This line creates a set named numSet containing the elements of the input list nums.\n",
    "        Using a set ensures that there are no duplicates in the set.\"\"\"\n",
    "        longest = 0\n",
    "        \"\"\" This line initializes a variable named longest to 0. This variable will be used to store\n",
    "        the length of the longest consecutive sequence found.\"\"\"\n",
    "        for num in numSet:\n",
    "            \"\"\" This line starts a loop that iterates over each element num in the numSet set.\"\"\"\n",
    "            if (num - 1) not in numSet:\n",
    "                \"\"\" This line checks if the current element num minus 1 is not present in the numSet.\n",
    "                    If this condition is true, it means that num is the start of a consecutive sequence.\"\"\"\n",
    "                length = 1\n",
    "                \"\"\" This line initializes a variable length to 1, representing the length of the current\n",
    "                consecutive sequence starting at num.\"\"\"\n",
    "            while (num + length) in numSet:\n",
    "                \"\"\" This line starts a while loop that continues as long as the next consecutive\n",
    "                number (num + length) is present in the numSet.\"\"\"\n",
    "                length += 1\n",
    "                # This line increments the length variable by 1 for each consecutive number found.\n",
    "                longest = max(length, longest)\n",
    "                \"\"\" This line updates the longest variable to be the maximum value between the current\n",
    "                length of the consecutive sequence and the previous longest value.\"\"\"\n",
    "        return longest\n",
    "    \"\"\" This line returns the final value of the longest variable, representing the length of\n",
    "    the longest consecutive sequence found in the input list nums.\"\"\"\n",
    "\n",
    "if __name__ == \"__main__\":\n",
    "    nums = [100, 4, 200, 1, 3, 2]\n",
    "    print(Solution().longestConsecutive(nums))\n",
    "    nums = [0, 3, 7, 2, 5, 8, 4, 6, 0, 1]\n",
    "    print(Solution().longestConsecutive(nums))"
   ]
  }
 ],
 "metadata": {
  "kernelspec": {
   "display_name": "timeseriesENV",
   "language": "python",
   "name": "python3"
  },
  "language_info": {
   "codemirror_mode": {
    "name": "ipython",
    "version": 3
   },
   "file_extension": ".py",
   "mimetype": "text/x-python",
   "name": "python",
   "nbconvert_exporter": "python",
   "pygments_lexer": "ipython3",
   "version": "3.10.6"
  }
 },
 "nbformat": 4,
 "nbformat_minor": 2
}
