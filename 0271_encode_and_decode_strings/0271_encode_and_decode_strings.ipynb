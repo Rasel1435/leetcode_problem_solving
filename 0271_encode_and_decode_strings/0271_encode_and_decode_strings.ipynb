{
 "cells": [
  {
   "cell_type": "markdown",
   "metadata": {},
   "source": [
    "# 0271_encode_and_decode_strings"
   ]
  },
  {
   "cell_type": "markdown",
   "metadata": {},
   "source": [
    "\n",
    "You are given an array of strings words and a string pattern. Return a list of all the strings in words that match the pattern where each letter in the pattern corresponds to a unique digit.\n",
    "\n",
    "More specifically, each letter in pattern must map to a distinct digit, and every occurrence of the same letter must map to the same digit. If there is a bijection between words[i] and pattern, then words[i] is a matching word.\n",
    "\n",
    "You may return the answer in any order.\n",
    "\n",
    "Example 1:\n",
    "\n",
    "- Input: words = [\"abc\",\"deq\",\"mee\",\"aqq\",\"dkd\",\"ccc\"],\n",
    "- pattern = \"abb\"\n",
    "- Output: [\"mee\",\"aqq\"] </br>\n",
    "Explanation: \"mee\" matches the pattern because there is a bijection between the letters \"m\" and \"a\" and between \"e\" and \"b\".\n",
    "Similarly, \"aqq\" matches the pattern because there is a bijection between the letters \"a\" and \"a\" and between \"q\" and \"b\".\n",
    "\n",
    "Example 2:\n",
    "\n",
    "- Input: words = [\"a\",\"b\",\"c\"],\n",
    "- pattern = \"a\"\n",
    "- Output: [\"a\",\"b\",\"c\"]\n",
    "\n",
    "Constraints:\n",
    "\n",
    "- 1 <= pattern.length <= 20\n",
    "- 1 <= words.length <= 50 </br>\n",
    "words[i].length == pattern.length </br>\n",
    "pattern and words[i] are lowercase English letters."
   ]
  },
  {
   "cell_type": "markdown",
   "metadata": {},
   "source": [
    "# Let's Break Down The Code"
   ]
  },
  {
   "cell_type": "code",
   "execution_count": 24,
   "metadata": {},
   "outputs": [
    {
     "name": "stdout",
     "output_type": "stream",
     "text": [
      "Encoded string: 5#Hello5#World\n",
      "Decoded strings: ['Hello', 'World']\n"
     ]
    }
   ],
   "source": [
    "class Solution:\n",
    "    def encode(self, strs):\n",
    "        \"\"\"This line defines a method named encode within the Solution class.\n",
    "        The method takes two parameters: self, which refers to the instance of the class,\n",
    "        and strs, which is a list of strings to be encoded.\"\"\"\n",
    "        res = \"\"\n",
    "        # This line initializes an empty string res which will store the encoded result.\n",
    "        for s in strs:\n",
    "            # This line starts a loop that iterates over each string s in the input list strs.\n",
    "            res += str(len(s)) + \"#\" + s\n",
    "            \"\"\"This line calculates the length of the current string s using len(s),\n",
    "            converts it to a string using str(), and concatenates it with # and the string itself (s).\n",
    "            This forms the encoded representation of the current string, which is appended to the res string.\"\"\"\n",
    "        return res\n",
    "\n",
    "    def decode(self, s):\n",
    "        # as like as encode here and s, which is the encoded string to be decoded.\n",
    "        res = []\n",
    "        i = 0\n",
    "        # This line initializes an empty list res to store the decoded strings.\n",
    "\n",
    "        while i < len(s):\n",
    "            \"\"\"This line starts a while loop that iterates over the characters of the encoded string s\n",
    "            until the index i reaches the end of the string.\"\"\"\n",
    "            j = i\n",
    "            while s[j] != '#':\n",
    "                j += 1\n",
    "                \"\"\"These lines find the index j of the next # symbol in the encoded string s,\n",
    "                starting from the current index i. This loop effectively finds the substring\n",
    "                representing the length of the next word.\"\"\"\n",
    "            length = int(s[i:j])\n",
    "            \"\"\"This line extracts the substring representing the length of the current word\n",
    "            from the encoded string s, converts it to an integer using int(),\n",
    "            and stores it in the variable length.\"\"\"\n",
    "            i = j + 1\n",
    "            j = i + length\n",
    "            \"\"\"These lines update the indices i and j to point to the start and end positions\n",
    "            of the next word in the encoded string s.\"\"\"\n",
    "            res.append(s[i:j])\n",
    "            \"\"\"This line extracts the substring representing the current word from\n",
    "            the encoded string s and appends it to the list res, effectively decoding the word.\"\"\"\n",
    "            i = j\n",
    "            \"\"\"This line updates the index i to point to the position after the end of\n",
    "            the current word in the encoded string s, preparing it for the next iteration of the loop.\"\"\"\n",
    "        return res\n",
    "\n",
    "\n",
    "if __name__ == \"__main__\":\n",
    "    s = Solution()\n",
    "\n",
    "    # Example usage of the encode method\n",
    "    encoded_string = s.encode([\"Hello\", \"World\"])\n",
    "    print(\"Encoded string:\", encoded_string)\n",
    "\n",
    "    # Example usage of the decode method\n",
    "    decoded_strings = s.decode(encoded_string)\n",
    "    print(\"Decoded strings:\", decoded_strings)\n",
    "    \"\"\"This line calls the decode method of the Solution class to decode the encoded string\n",
    "    'encoded_string' back into a list of strings, and prints the decoded strings.\"\"\""
   ]
  }
 ],
 "metadata": {
  "kernelspec": {
   "display_name": "timeseriesENV",
   "language": "python",
   "name": "python3"
  },
  "language_info": {
   "codemirror_mode": {
    "name": "ipython",
    "version": 3
   },
   "file_extension": ".py",
   "mimetype": "text/x-python",
   "name": "python",
   "nbconvert_exporter": "python",
   "pygments_lexer": "ipython3",
   "version": "3.10.6"
  }
 },
 "nbformat": 4,
 "nbformat_minor": 2
}
